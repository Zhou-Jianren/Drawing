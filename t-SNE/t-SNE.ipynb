{
 "cells": [
  {
   "cell_type": "code",
   "execution_count": 19,
   "metadata": {},
   "outputs": [],
   "source": [
    "# Current directory\n",
    "import os\n",
    "os.chdir('F:\\Zero\\MFBP')"
   ]
  },
  {
   "cell_type": "code",
   "execution_count": null,
   "metadata": {},
   "outputs": [],
   "source": [
    "import numpy as np\n",
    "import matplotlib.pyplot as plt\n",
    "from sklearn.manifold import TSNE\n",
    "\n",
    "\n",
    "# features: 形状为 (样本数, 特征数)\n",
    "features = np.load('你的特征数据.npy')  # 加载特征数据\n",
    "labels = np.load('你的标签数据.npy')  # 加载标签数据（如果需要）\n",
    "\n",
    "# 进行t-SNE降维\n",
    "tsne = TSNE(n_components=2, random_state=42)\n",
    "features_tsne = tsne.fit_transform(features)\n",
    "\n",
    "# 绘制t-SNE图\n",
    "plt.figure(figsize=(10, 6))\n",
    "scatter = plt.scatter(features_tsne[:, 0], features_tsne[:, 1], c=labels, cmap='viridis', alpha=0.7)\n",
    "plt.colorbar(scatter)\n",
    "plt.title('t-SNE Visualization of Features')\n",
    "plt.xlabel('t-SNE Component 1')\n",
    "plt.ylabel('t-SNE Component 2')\n",
    "plt.show()\n"
   ]
  }
 ],
 "metadata": {
  "kernelspec": {
   "display_name": "pytorch",
   "language": "python",
   "name": "python3"
  },
  "language_info": {
   "codemirror_mode": {
    "name": "ipython",
    "version": 3
   },
   "file_extension": ".py",
   "mimetype": "text/x-python",
   "name": "python",
   "nbconvert_exporter": "python",
   "pygments_lexer": "ipython3",
   "version": "3.9.19"
  }
 },
 "nbformat": 4,
 "nbformat_minor": 2
}
