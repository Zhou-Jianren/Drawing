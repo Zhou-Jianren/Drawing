{
 "cells": [
  {
   "cell_type": "code",
   "execution_count": 6,
   "metadata": {},
   "outputs": [],
   "source": [
    "# Current directory\n",
    "import os\n",
    "os.chdir('F:/Zero/MFBP')"
   ]
  },
  {
   "cell_type": "markdown",
   "metadata": {},
   "source": [
    "### Upset图绘制"
   ]
  },
  {
   "cell_type": "code",
   "execution_count": null,
   "metadata": {},
   "outputs": [],
   "source": [
    "import numpy as np\n",
    "\n",
    "\n",
    "# Load the .npy file to examine the structure of the data\n",
    "file_path = 'data/MFBP/all_data.npy'\n",
    "data = np.load(file_path, allow_pickle=True)\n",
    "\n",
    "# Checking the structure of the data\n",
    "data_structure = data.item()\n",
    "data_structure\n"
   ]
  },
  {
   "cell_type": "code",
   "execution_count": null,
   "metadata": {},
   "outputs": [],
   "source": [
    "import pandas as pd\n",
    "import matplotlib.pyplot as plt\n",
    "from upsetplot import UpSet, generate_counts\n",
    "\n",
    "\n",
    "# Convert the data into a pandas DataFrame for easy manipulation\n",
    "sequences = list(data_structure.keys())\n",
    "labels = list(data_structure.values())\n",
    "\n",
    "df = pd.DataFrame(labels, columns=['ACP', 'ADP', 'AHP', 'AIP', 'AMP'])\n",
    "print(df)\n",
    "df.to_excel('draw/data/upset.xlsx', index=False)\n",
    "\n"
   ]
  }
 ],
 "metadata": {
  "kernelspec": {
   "display_name": "pytorch",
   "language": "python",
   "name": "python3"
  },
  "language_info": {
   "codemirror_mode": {
    "name": "ipython",
    "version": 3
   },
   "file_extension": ".py",
   "mimetype": "text/x-python",
   "name": "python",
   "nbconvert_exporter": "python",
   "pygments_lexer": "ipython3",
   "version": "3.9.19"
  }
 },
 "nbformat": 4,
 "nbformat_minor": 2
}
