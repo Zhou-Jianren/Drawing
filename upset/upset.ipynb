{
 "cells": [
  {
   "cell_type": "code",
   "execution_count": 1,
   "metadata": {},
   "outputs": [],
   "source": [
    "# Current directory\n",
    "import os\n",
    "os.chdir('F:/Zero/MFBP')"
   ]
  },
  {
   "cell_type": "markdown",
   "metadata": {},
   "source": [
    "### 数据处理"
   ]
  },
  {
   "cell_type": "code",
   "execution_count": null,
   "metadata": {},
   "outputs": [],
   "source": [
    "import numpy as np\n",
    "\n",
    "\n",
    "# Load the .npy file to examine the structure of the data\n",
    "file_path = 'data/MFBP/all_data.npy'\n",
    "data = np.load(file_path, allow_pickle=True)\n",
    "\n",
    "# Checking the structure of the data\n",
    "data_structure = data.item()\n",
    "data_structure\n"
   ]
  },
  {
   "cell_type": "code",
   "execution_count": null,
   "metadata": {},
   "outputs": [],
   "source": [
    "import pandas as pd\n",
    "import matplotlib.pyplot as plt\n",
    "from upsetplot import UpSet, generate_counts\n",
    "\n",
    "\n",
    "# Convert the data into a pandas DataFrame for easy manipulation\n",
    "sequences = list(data_structure.keys())\n",
    "labels = list(data_structure.values())\n",
    "\n",
    "df = pd.DataFrame(labels, columns=['ACP', 'ADP', 'AHP', 'AIP', 'AMP'])\n",
    "print(df)\n",
    "df.to_excel('draw/data/upset.xlsx', index=False)\n",
    "\n"
   ]
  },
  {
   "cell_type": "markdown",
   "metadata": {},
   "source": [
    "### 读取tsv文件"
   ]
  },
  {
   "cell_type": "code",
   "execution_count": 3,
   "metadata": {},
   "outputs": [
    {
     "name": "stdout",
     "output_type": "stream",
     "text": [
      "      AMP  ACP  ADP  AHP  AIP\n",
      "0       1    0    0    0    0\n",
      "1       1    0    0    0    0\n",
      "2       1    0    0    0    0\n",
      "3       1    0    0    0    0\n",
      "4       1    0    0    0    0\n",
      "...   ...  ...  ...  ...  ...\n",
      "1180    1    1    0    0    0\n",
      "1181    1    1    0    0    0\n",
      "1182    1    1    0    0    0\n",
      "1183    0    0    1    1    0\n",
      "1184    0    0    1    0    1\n",
      "\n",
      "[1185 rows x 5 columns]\n"
     ]
    }
   ],
   "source": [
    "import os\n",
    "import pandas as pd\n",
    "\n",
    "\n",
    "# TSV文件路径\n",
    "test_data_path = 'dataset/MFBP/test.tsv'\n",
    "\n",
    "# 读取TSV文件并转换为字典格式\n",
    "def read_tsv(file_path):\n",
    "    data_npy = {}\n",
    "    with open(file_path, 'r') as file:\n",
    "        next(file)  # 跳过标题行\n",
    "        for line in file:\n",
    "            label, sequence = line.strip().split('\\t')\n",
    "            data_npy[sequence] = list(map(int, label.split(',')))  # 假设标签是逗号分隔的数字\n",
    "    return data_npy\n",
    "\n",
    "\n",
    "# 读取TSV文件\n",
    "test_data_npy = read_tsv(test_data_path)\n",
    "\n",
    "labels = list(test_data_npy.values())\n",
    "\n",
    "df = pd.DataFrame(labels, columns=['AMP', 'ACP', 'ADP', 'AHP', 'AIP'])\n",
    "print(df)\n",
    "df.to_excel('draw/data/upset_test.xlsx', index=False)"
   ]
  }
 ],
 "metadata": {
  "kernelspec": {
   "display_name": "pytorch",
   "language": "python",
   "name": "python3"
  },
  "language_info": {
   "codemirror_mode": {
    "name": "ipython",
    "version": 3
   },
   "file_extension": ".py",
   "mimetype": "text/x-python",
   "name": "python",
   "nbconvert_exporter": "python",
   "pygments_lexer": "ipython3",
   "version": "3.9.19"
  }
 },
 "nbformat": 4,
 "nbformat_minor": 2
}
